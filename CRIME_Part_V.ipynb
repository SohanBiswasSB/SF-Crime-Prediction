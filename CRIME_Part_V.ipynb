{
 "cells": [
  {
   "cell_type": "code",
   "execution_count": 0,
   "metadata": {
    "colab": {},
    "colab_type": "code",
    "id": "dBA1AFIoaEqz"
   },
   "outputs": [],
   "source": [
    "import pandas as pd\n",
    "from fbprophet import Prophet\n",
    "from fbprophet.plot import add_changepoints_to_plot\n",
    "from fbprophet.diagnostics import cross_validation\n",
    "from fbprophet.diagnostics import performance_metrics\n",
    "from fbprophet.plot import plot_cross_validation_metric\n",
    "import matplotlib.pyplot as plt"
   ]
  },
  {
   "cell_type": "code",
   "execution_count": 0,
   "metadata": {
    "colab": {
     "base_uri": "https://localhost:8080/",
     "height": 54
    },
    "colab_type": "code",
    "id": "4dzA4PhLaWxd",
    "outputId": "3578c7f1-06ed-48dc-fd07-5eb60b827027"
   },
   "outputs": [
    {
     "name": "stdout",
     "output_type": "stream",
     "text": [
      "Drive already mounted at /content/gdrive; to attempt to forcibly remount, call drive.mount(\"/content/gdrive\", force_remount=True).\n"
     ]
    }
   ],
   "source": [
    "from google.colab import drive\n",
    "drive.mount('/content/gdrive')\n",
    "df=pd.read_csv('gdrive/My Drive/Location.csv')\n"
   ]
  },
  {
   "cell_type": "code",
   "execution_count": 0,
   "metadata": {
    "colab": {
     "base_uri": "https://localhost:8080/",
     "height": 204
    },
    "colab_type": "code",
    "id": "gNwQW9FGcQog",
    "outputId": "28f8f9fb-83c7-4e2b-cdd6-f0516f633a26"
   },
   "outputs": [
    {
     "data": {
      "text/html": [
       "<div>\n",
       "<style scoped>\n",
       "    .dataframe tbody tr th:only-of-type {\n",
       "        vertical-align: middle;\n",
       "    }\n",
       "\n",
       "    .dataframe tbody tr th {\n",
       "        vertical-align: top;\n",
       "    }\n",
       "\n",
       "    .dataframe thead th {\n",
       "        text-align: right;\n",
       "    }\n",
       "</style>\n",
       "<table border=\"1\" class=\"dataframe\">\n",
       "  <thead>\n",
       "    <tr style=\"text-align: right;\">\n",
       "      <th></th>\n",
       "      <th>Unnamed: 0</th>\n",
       "      <th>Date_Time</th>\n",
       "      <th>Category</th>\n",
       "      <th>Descript</th>\n",
       "      <th>X</th>\n",
       "      <th>Y</th>\n",
       "    </tr>\n",
       "  </thead>\n",
       "  <tbody>\n",
       "    <tr>\n",
       "      <th>0</th>\n",
       "      <td>586698</td>\n",
       "      <td>2003-01-01 00:01:00</td>\n",
       "      <td>13</td>\n",
       "      <td>392</td>\n",
       "      <td>-122.413754</td>\n",
       "      <td>37.783730</td>\n",
       "    </tr>\n",
       "    <tr>\n",
       "      <th>1</th>\n",
       "      <td>1715286</td>\n",
       "      <td>2003-01-01 00:01:00</td>\n",
       "      <td>9</td>\n",
       "      <td>300</td>\n",
       "      <td>-122.443835</td>\n",
       "      <td>37.792137</td>\n",
       "    </tr>\n",
       "    <tr>\n",
       "      <th>2</th>\n",
       "      <td>90200</td>\n",
       "      <td>2003-01-01 00:01:00</td>\n",
       "      <td>28</td>\n",
       "      <td>212</td>\n",
       "      <td>-122.414190</td>\n",
       "      <td>37.747319</td>\n",
       "    </tr>\n",
       "    <tr>\n",
       "      <th>3</th>\n",
       "      <td>1713765</td>\n",
       "      <td>2003-01-01 00:01:00</td>\n",
       "      <td>1</td>\n",
       "      <td>443</td>\n",
       "      <td>-122.419971</td>\n",
       "      <td>37.767454</td>\n",
       "    </tr>\n",
       "    <tr>\n",
       "      <th>4</th>\n",
       "      <td>1488152</td>\n",
       "      <td>2003-01-01 00:01:00</td>\n",
       "      <td>12</td>\n",
       "      <td>207</td>\n",
       "      <td>-122.445418</td>\n",
       "      <td>37.712075</td>\n",
       "    </tr>\n",
       "  </tbody>\n",
       "</table>\n",
       "</div>"
      ],
      "text/plain": [
       "   Unnamed: 0            Date_Time  Category  Descript           X          Y\n",
       "0      586698  2003-01-01 00:01:00        13       392 -122.413754  37.783730\n",
       "1     1715286  2003-01-01 00:01:00         9       300 -122.443835  37.792137\n",
       "2       90200  2003-01-01 00:01:00        28       212 -122.414190  37.747319\n",
       "3     1713765  2003-01-01 00:01:00         1       443 -122.419971  37.767454\n",
       "4     1488152  2003-01-01 00:01:00        12       207 -122.445418  37.712075"
      ]
     },
     "execution_count": 3,
     "metadata": {
      "tags": []
     },
     "output_type": "execute_result"
    }
   ],
   "source": [
    "df.head()"
   ]
  },
  {
   "cell_type": "code",
   "execution_count": 0,
   "metadata": {
    "colab": {
     "base_uri": "https://localhost:8080/",
     "height": 419
    },
    "colab_type": "code",
    "id": "_gwo-sUK0bNW",
    "outputId": "e11b5da8-0db3-4631-e5bd-3a4465bc6cbe"
   },
   "outputs": [
    {
     "data": {
      "text/html": [
       "<div>\n",
       "<style scoped>\n",
       "    .dataframe tbody tr th:only-of-type {\n",
       "        vertical-align: middle;\n",
       "    }\n",
       "\n",
       "    .dataframe tbody tr th {\n",
       "        vertical-align: top;\n",
       "    }\n",
       "\n",
       "    .dataframe thead th {\n",
       "        text-align: right;\n",
       "    }\n",
       "</style>\n",
       "<table border=\"1\" class=\"dataframe\">\n",
       "  <thead>\n",
       "    <tr style=\"text-align: right;\">\n",
       "      <th></th>\n",
       "      <th>Date_Time</th>\n",
       "      <th>Category</th>\n",
       "      <th>Descript</th>\n",
       "      <th>X</th>\n",
       "      <th>Y</th>\n",
       "    </tr>\n",
       "  </thead>\n",
       "  <tbody>\n",
       "    <tr>\n",
       "      <th>0</th>\n",
       "      <td>2003-01-01 00:01:00</td>\n",
       "      <td>13</td>\n",
       "      <td>392</td>\n",
       "      <td>-122.413754</td>\n",
       "      <td>37.783730</td>\n",
       "    </tr>\n",
       "    <tr>\n",
       "      <th>1</th>\n",
       "      <td>2003-01-01 00:01:00</td>\n",
       "      <td>9</td>\n",
       "      <td>300</td>\n",
       "      <td>-122.443835</td>\n",
       "      <td>37.792137</td>\n",
       "    </tr>\n",
       "    <tr>\n",
       "      <th>2</th>\n",
       "      <td>2003-01-01 00:01:00</td>\n",
       "      <td>28</td>\n",
       "      <td>212</td>\n",
       "      <td>-122.414190</td>\n",
       "      <td>37.747319</td>\n",
       "    </tr>\n",
       "    <tr>\n",
       "      <th>3</th>\n",
       "      <td>2003-01-01 00:01:00</td>\n",
       "      <td>1</td>\n",
       "      <td>443</td>\n",
       "      <td>-122.419971</td>\n",
       "      <td>37.767454</td>\n",
       "    </tr>\n",
       "    <tr>\n",
       "      <th>4</th>\n",
       "      <td>2003-01-01 00:01:00</td>\n",
       "      <td>12</td>\n",
       "      <td>207</td>\n",
       "      <td>-122.445418</td>\n",
       "      <td>37.712075</td>\n",
       "    </tr>\n",
       "    <tr>\n",
       "      <th>...</th>\n",
       "      <td>...</td>\n",
       "      <td>...</td>\n",
       "      <td>...</td>\n",
       "      <td>...</td>\n",
       "      <td>...</td>\n",
       "    </tr>\n",
       "    <tr>\n",
       "      <th>2215019</th>\n",
       "      <td>2018-05-15 02:01:00</td>\n",
       "      <td>21</td>\n",
       "      <td>810</td>\n",
       "      <td>-122.417813</td>\n",
       "      <td>37.757101</td>\n",
       "    </tr>\n",
       "    <tr>\n",
       "      <th>2215020</th>\n",
       "      <td>2018-05-15 02:01:00</td>\n",
       "      <td>21</td>\n",
       "      <td>537</td>\n",
       "      <td>-122.417813</td>\n",
       "      <td>37.757101</td>\n",
       "    </tr>\n",
       "    <tr>\n",
       "      <th>2215021</th>\n",
       "      <td>2018-05-15 02:01:00</td>\n",
       "      <td>21</td>\n",
       "      <td>811</td>\n",
       "      <td>-122.417813</td>\n",
       "      <td>37.757101</td>\n",
       "    </tr>\n",
       "    <tr>\n",
       "      <th>2215022</th>\n",
       "      <td>2018-05-15 04:14:00</td>\n",
       "      <td>20</td>\n",
       "      <td>24</td>\n",
       "      <td>-122.419258</td>\n",
       "      <td>37.775146</td>\n",
       "    </tr>\n",
       "    <tr>\n",
       "      <th>2215023</th>\n",
       "      <td>2018-05-15 10:30:00</td>\n",
       "      <td>36</td>\n",
       "      <td>748</td>\n",
       "      <td>-122.411912</td>\n",
       "      <td>37.775207</td>\n",
       "    </tr>\n",
       "  </tbody>\n",
       "</table>\n",
       "<p>2215024 rows × 5 columns</p>\n",
       "</div>"
      ],
      "text/plain": [
       "                   Date_Time  Category  Descript           X          Y\n",
       "0        2003-01-01 00:01:00        13       392 -122.413754  37.783730\n",
       "1        2003-01-01 00:01:00         9       300 -122.443835  37.792137\n",
       "2        2003-01-01 00:01:00        28       212 -122.414190  37.747319\n",
       "3        2003-01-01 00:01:00         1       443 -122.419971  37.767454\n",
       "4        2003-01-01 00:01:00        12       207 -122.445418  37.712075\n",
       "...                      ...       ...       ...         ...        ...\n",
       "2215019  2018-05-15 02:01:00        21       810 -122.417813  37.757101\n",
       "2215020  2018-05-15 02:01:00        21       537 -122.417813  37.757101\n",
       "2215021  2018-05-15 02:01:00        21       811 -122.417813  37.757101\n",
       "2215022  2018-05-15 04:14:00        20        24 -122.419258  37.775146\n",
       "2215023  2018-05-15 10:30:00        36       748 -122.411912  37.775207\n",
       "\n",
       "[2215024 rows x 5 columns]"
      ]
     },
     "execution_count": 4,
     "metadata": {
      "tags": []
     },
     "output_type": "execute_result"
    }
   ],
   "source": [
    "df.drop(['Unnamed: 0'], axis=1)"
   ]
  },
  {
   "cell_type": "code",
   "execution_count": 0,
   "metadata": {
    "colab": {},
    "colab_type": "code",
    "id": "7eosBEGfe1Am"
   },
   "outputs": [],
   "source": [
    "catdf = df[['Date_Time','Category']].rename(columns={'Date_Time':'ds','Category':'y'})\n",
    "desdf = df[['Date_Time','Descript']].rename(columns={'Date_Time':'ds','Descript':'y'})\n",
    "xdf = df[['Date_Time','X']].rename(columns={'Date_Time':'ds','X':'y'})\n",
    "ydf = df[['Date_Time','Y']].rename(columns={'Date_Time':'ds','Y':'y'})\n",
    "\n"
   ]
  },
  {
   "cell_type": "code",
   "execution_count": 0,
   "metadata": {
    "colab": {
     "base_uri": "https://localhost:8080/",
     "height": 51
    },
    "colab_type": "code",
    "id": "br_MUadVfQPW",
    "outputId": "3d7632ad-afef-4240-d3b2-a81e8d083541"
   },
   "outputs": [
    {
     "name": "stderr",
     "output_type": "stream",
     "text": [
      "INFO:numexpr.utils:NumExpr defaulting to 2 threads.\n"
     ]
    },
    {
     "data": {
      "text/plain": [
       "<fbprophet.forecaster.Prophet at 0x7f11acd62550>"
      ]
     },
     "execution_count": 6,
     "metadata": {
      "tags": []
     },
     "output_type": "execute_result"
    }
   ],
   "source": [
    "prfcat = Prophet()\n",
    "prfdes = Prophet()\n",
    "prfx = Prophet()\n",
    "prfy = Prophet()\n",
    "prfcat.fit(catdf)\n",
    "prfdes.fit(desdf)\n",
    "prfx.fit(xdf)\n",
    "prfy.fit(ydf)"
   ]
  },
  {
   "cell_type": "code",
   "execution_count": 0,
   "metadata": {
    "colab": {
     "base_uri": "https://localhost:8080/",
     "height": 419
    },
    "colab_type": "code",
    "id": "d81_MgwTaErO",
    "outputId": "01428a47-958e-4e69-d1c5-18dcec60f5f5"
   },
   "outputs": [
    {
     "data": {
      "text/html": [
       "<div>\n",
       "<style scoped>\n",
       "    .dataframe tbody tr th:only-of-type {\n",
       "        vertical-align: middle;\n",
       "    }\n",
       "\n",
       "    .dataframe tbody tr th {\n",
       "        vertical-align: top;\n",
       "    }\n",
       "\n",
       "    .dataframe thead th {\n",
       "        text-align: right;\n",
       "    }\n",
       "</style>\n",
       "<table border=\"1\" class=\"dataframe\">\n",
       "  <thead>\n",
       "    <tr style=\"text-align: right;\">\n",
       "      <th></th>\n",
       "      <th>ds</th>\n",
       "    </tr>\n",
       "  </thead>\n",
       "  <tbody>\n",
       "    <tr>\n",
       "      <th>0</th>\n",
       "      <td>2018-05-15 10:31:00</td>\n",
       "    </tr>\n",
       "    <tr>\n",
       "      <th>1</th>\n",
       "      <td>2018-05-15 10:32:00</td>\n",
       "    </tr>\n",
       "    <tr>\n",
       "      <th>2</th>\n",
       "      <td>2018-05-15 10:33:00</td>\n",
       "    </tr>\n",
       "    <tr>\n",
       "      <th>3</th>\n",
       "      <td>2018-05-15 10:34:00</td>\n",
       "    </tr>\n",
       "    <tr>\n",
       "      <th>4</th>\n",
       "      <td>2018-05-15 10:35:00</td>\n",
       "    </tr>\n",
       "    <tr>\n",
       "      <th>...</th>\n",
       "      <td>...</td>\n",
       "    </tr>\n",
       "    <tr>\n",
       "      <th>43195</th>\n",
       "      <td>2018-06-14 10:26:00</td>\n",
       "    </tr>\n",
       "    <tr>\n",
       "      <th>43196</th>\n",
       "      <td>2018-06-14 10:27:00</td>\n",
       "    </tr>\n",
       "    <tr>\n",
       "      <th>43197</th>\n",
       "      <td>2018-06-14 10:28:00</td>\n",
       "    </tr>\n",
       "    <tr>\n",
       "      <th>43198</th>\n",
       "      <td>2018-06-14 10:29:00</td>\n",
       "    </tr>\n",
       "    <tr>\n",
       "      <th>43199</th>\n",
       "      <td>2018-06-14 10:30:00</td>\n",
       "    </tr>\n",
       "  </tbody>\n",
       "</table>\n",
       "<p>43200 rows × 1 columns</p>\n",
       "</div>"
      ],
      "text/plain": [
       "                       ds\n",
       "0     2018-05-15 10:31:00\n",
       "1     2018-05-15 10:32:00\n",
       "2     2018-05-15 10:33:00\n",
       "3     2018-05-15 10:34:00\n",
       "4     2018-05-15 10:35:00\n",
       "...                   ...\n",
       "43195 2018-06-14 10:26:00\n",
       "43196 2018-06-14 10:27:00\n",
       "43197 2018-06-14 10:28:00\n",
       "43198 2018-06-14 10:29:00\n",
       "43199 2018-06-14 10:30:00\n",
       "\n",
       "[43200 rows x 1 columns]"
      ]
     },
     "execution_count": 8,
     "metadata": {
      "tags": []
     },
     "output_type": "execute_result"
    }
   ],
   "source": [
    "future = prfcat.make_future_dataframe(30*24*60,'min',False)\n",
    "future"
   ]
  },
  {
   "cell_type": "code",
   "execution_count": 0,
   "metadata": {
    "colab": {
     "base_uri": "https://localhost:8080/",
     "height": 969
    },
    "colab_type": "code",
    "id": "I8ci8V8gaErU",
    "outputId": "2abbc29e-bb5f-40ed-c76e-fa504422641b"
   },
   "outputs": [
    {
     "name": "stdout",
     "output_type": "stream",
     "text": [
      "                       ds       yhat\n",
      "0     2018-05-15 10:31:00  18.696970\n",
      "1     2018-05-15 10:32:00  18.695471\n",
      "2     2018-05-15 10:33:00  18.693971\n",
      "3     2018-05-15 10:34:00  18.692470\n",
      "4     2018-05-15 10:35:00  18.690967\n",
      "...                   ...        ...\n",
      "43195 2018-06-14 10:26:00  18.775919\n",
      "43196 2018-06-14 10:27:00  18.774358\n",
      "43197 2018-06-14 10:28:00  18.772798\n",
      "43198 2018-06-14 10:29:00  18.771238\n",
      "43199 2018-06-14 10:30:00  18.769678\n",
      "\n",
      "[43200 rows x 2 columns]\n",
      "                       ds        yhat\n",
      "0     2018-05-15 10:31:00  450.169124\n",
      "1     2018-05-15 10:32:00  450.155955\n",
      "2     2018-05-15 10:33:00  450.143047\n",
      "3     2018-05-15 10:34:00  450.130406\n",
      "4     2018-05-15 10:35:00  450.118035\n",
      "...                   ...         ...\n",
      "43195 2018-06-14 10:26:00  449.105175\n",
      "43196 2018-06-14 10:27:00  449.086320\n",
      "43197 2018-06-14 10:28:00  449.067701\n",
      "43198 2018-06-14 10:29:00  449.049325\n",
      "43199 2018-06-14 10:30:00  449.031195\n",
      "\n",
      "[43200 rows x 2 columns]\n",
      "                       ds        yhat\n",
      "0     2018-05-15 10:31:00 -122.425552\n",
      "1     2018-05-15 10:32:00 -122.425553\n",
      "2     2018-05-15 10:33:00 -122.425553\n",
      "3     2018-05-15 10:34:00 -122.425553\n",
      "4     2018-05-15 10:35:00 -122.425554\n",
      "...                   ...         ...\n",
      "43195 2018-06-14 10:26:00 -122.424848\n",
      "43196 2018-06-14 10:27:00 -122.424849\n",
      "43197 2018-06-14 10:28:00 -122.424850\n",
      "43198 2018-06-14 10:29:00 -122.424851\n",
      "43199 2018-06-14 10:30:00 -122.424852\n",
      "\n",
      "[43200 rows x 2 columns]\n",
      "                       ds       yhat\n",
      "0     2018-05-15 10:31:00  37.767121\n",
      "1     2018-05-15 10:32:00  37.767124\n",
      "2     2018-05-15 10:33:00  37.767126\n",
      "3     2018-05-15 10:34:00  37.767129\n",
      "4     2018-05-15 10:35:00  37.767131\n",
      "...                   ...        ...\n",
      "43195 2018-06-14 10:26:00  37.767576\n",
      "43196 2018-06-14 10:27:00  37.767577\n",
      "43197 2018-06-14 10:28:00  37.767578\n",
      "43198 2018-06-14 10:29:00  37.767579\n",
      "43199 2018-06-14 10:30:00  37.767580\n",
      "\n",
      "[43200 rows x 2 columns]\n"
     ]
    }
   ],
   "source": [
    "forcastcat = prfcat.predict(future)\n",
    "forcastdes = prfdes.predict(future)\n",
    "forcastx = prfx.predict(future)\n",
    "forcasty = prfy.predict(future)\n",
    "print(forcastcat[['ds','yhat']])\n",
    "print(forcastdes[['ds','yhat']])\n",
    "print(forcastx[['ds','yhat']])\n",
    "print(forcasty[['ds','yhat']])"
   ]
  },
  {
   "cell_type": "code",
   "execution_count": 0,
   "metadata": {
    "colab": {
     "base_uri": "https://localhost:8080/",
     "height": 419
    },
    "colab_type": "code",
    "id": "q4QcguiujWOd",
    "outputId": "cbf9340b-19dd-471b-bcd5-1dd395c3d9f2"
   },
   "outputs": [
    {
     "data": {
      "text/html": [
       "<div>\n",
       "<style scoped>\n",
       "    .dataframe tbody tr th:only-of-type {\n",
       "        vertical-align: middle;\n",
       "    }\n",
       "\n",
       "    .dataframe tbody tr th {\n",
       "        vertical-align: top;\n",
       "    }\n",
       "\n",
       "    .dataframe thead th {\n",
       "        text-align: right;\n",
       "    }\n",
       "</style>\n",
       "<table border=\"1\" class=\"dataframe\">\n",
       "  <thead>\n",
       "    <tr style=\"text-align: right;\">\n",
       "      <th></th>\n",
       "      <th>Date_Time</th>\n",
       "      <th>Category</th>\n",
       "      <th>Descript</th>\n",
       "      <th>X</th>\n",
       "      <th>Y</th>\n",
       "    </tr>\n",
       "  </thead>\n",
       "  <tbody>\n",
       "    <tr>\n",
       "      <th>0</th>\n",
       "      <td>2018-05-15 10:31:00</td>\n",
       "      <td>19</td>\n",
       "      <td>450</td>\n",
       "      <td>-122.425552</td>\n",
       "      <td>37.767121</td>\n",
       "    </tr>\n",
       "    <tr>\n",
       "      <th>1</th>\n",
       "      <td>2018-05-15 10:32:00</td>\n",
       "      <td>19</td>\n",
       "      <td>450</td>\n",
       "      <td>-122.425553</td>\n",
       "      <td>37.767124</td>\n",
       "    </tr>\n",
       "    <tr>\n",
       "      <th>2</th>\n",
       "      <td>2018-05-15 10:33:00</td>\n",
       "      <td>19</td>\n",
       "      <td>450</td>\n",
       "      <td>-122.425553</td>\n",
       "      <td>37.767126</td>\n",
       "    </tr>\n",
       "    <tr>\n",
       "      <th>3</th>\n",
       "      <td>2018-05-15 10:34:00</td>\n",
       "      <td>19</td>\n",
       "      <td>450</td>\n",
       "      <td>-122.425553</td>\n",
       "      <td>37.767129</td>\n",
       "    </tr>\n",
       "    <tr>\n",
       "      <th>4</th>\n",
       "      <td>2018-05-15 10:35:00</td>\n",
       "      <td>19</td>\n",
       "      <td>450</td>\n",
       "      <td>-122.425554</td>\n",
       "      <td>37.767131</td>\n",
       "    </tr>\n",
       "    <tr>\n",
       "      <th>...</th>\n",
       "      <td>...</td>\n",
       "      <td>...</td>\n",
       "      <td>...</td>\n",
       "      <td>...</td>\n",
       "      <td>...</td>\n",
       "    </tr>\n",
       "    <tr>\n",
       "      <th>43195</th>\n",
       "      <td>2018-06-14 10:26:00</td>\n",
       "      <td>19</td>\n",
       "      <td>449</td>\n",
       "      <td>-122.424848</td>\n",
       "      <td>37.767576</td>\n",
       "    </tr>\n",
       "    <tr>\n",
       "      <th>43196</th>\n",
       "      <td>2018-06-14 10:27:00</td>\n",
       "      <td>19</td>\n",
       "      <td>449</td>\n",
       "      <td>-122.424849</td>\n",
       "      <td>37.767577</td>\n",
       "    </tr>\n",
       "    <tr>\n",
       "      <th>43197</th>\n",
       "      <td>2018-06-14 10:28:00</td>\n",
       "      <td>19</td>\n",
       "      <td>449</td>\n",
       "      <td>-122.424850</td>\n",
       "      <td>37.767578</td>\n",
       "    </tr>\n",
       "    <tr>\n",
       "      <th>43198</th>\n",
       "      <td>2018-06-14 10:29:00</td>\n",
       "      <td>19</td>\n",
       "      <td>449</td>\n",
       "      <td>-122.424851</td>\n",
       "      <td>37.767579</td>\n",
       "    </tr>\n",
       "    <tr>\n",
       "      <th>43199</th>\n",
       "      <td>2018-06-14 10:30:00</td>\n",
       "      <td>19</td>\n",
       "      <td>449</td>\n",
       "      <td>-122.424852</td>\n",
       "      <td>37.767580</td>\n",
       "    </tr>\n",
       "  </tbody>\n",
       "</table>\n",
       "<p>43200 rows × 5 columns</p>\n",
       "</div>"
      ],
      "text/plain": [
       "                 Date_Time  Category  Descript           X          Y\n",
       "0      2018-05-15 10:31:00        19       450 -122.425552  37.767121\n",
       "1      2018-05-15 10:32:00        19       450 -122.425553  37.767124\n",
       "2      2018-05-15 10:33:00        19       450 -122.425553  37.767126\n",
       "3      2018-05-15 10:34:00        19       450 -122.425553  37.767129\n",
       "4      2018-05-15 10:35:00        19       450 -122.425554  37.767131\n",
       "...                    ...       ...       ...         ...        ...\n",
       "43195  2018-06-14 10:26:00        19       449 -122.424848  37.767576\n",
       "43196  2018-06-14 10:27:00        19       449 -122.424849  37.767577\n",
       "43197  2018-06-14 10:28:00        19       449 -122.424850  37.767578\n",
       "43198  2018-06-14 10:29:00        19       449 -122.424851  37.767579\n",
       "43199  2018-06-14 10:30:00        19       449 -122.424852  37.767580\n",
       "\n",
       "[43200 rows x 5 columns]"
      ]
     },
     "execution_count": 10,
     "metadata": {
      "tags": []
     },
     "output_type": "execute_result"
    }
   ],
   "source": [
    "Forcasteddf=pd.DataFrame(columns=['Date_Time','Category','Descript','X','Y'])\n",
    "Forcasteddf['Date_Time']=future['ds'].apply(lambda x:str(x))\n",
    "Forcasteddf['Category']=forcastcat['yhat'].apply(lambda x:int(round(x,0)))\n",
    "Forcasteddf['Descript']=forcastdes['yhat'].apply(lambda x:int(round(x,0)))\n",
    "Forcasteddf['X']=forcastx['yhat']\n",
    "Forcasteddf['Y']=forcasty['yhat']\n",
    "Forcasteddf\n"
   ]
  },
  {
   "cell_type": "code",
   "execution_count": 0,
   "metadata": {
    "colab": {
     "base_uri": "https://localhost:8080/",
     "height": 255
    },
    "colab_type": "code",
    "id": "9EiQsEixGjqT",
    "outputId": "8bfbbbd5-2114-4a05-ead9-d5c40aa9d273"
   },
   "outputs": [
    {
     "data": {
      "text/plain": [
       "<bound method NDFrame.to_csv of                  Date_Time  Category  Descript           X          Y\n",
       "0      2018-05-15 10:31:00        19       450 -122.425552  37.767121\n",
       "1      2018-05-15 10:32:00        19       450 -122.425553  37.767124\n",
       "2      2018-05-15 10:33:00        19       450 -122.425553  37.767126\n",
       "3      2018-05-15 10:34:00        19       450 -122.425553  37.767129\n",
       "4      2018-05-15 10:35:00        19       450 -122.425554  37.767131\n",
       "...                    ...       ...       ...         ...        ...\n",
       "43195  2018-06-14 10:26:00        19       449 -122.424848  37.767576\n",
       "43196  2018-06-14 10:27:00        19       449 -122.424849  37.767577\n",
       "43197  2018-06-14 10:28:00        19       449 -122.424850  37.767578\n",
       "43198  2018-06-14 10:29:00        19       449 -122.424851  37.767579\n",
       "43199  2018-06-14 10:30:00        19       449 -122.424852  37.767580\n",
       "\n",
       "[43200 rows x 5 columns]>"
      ]
     },
     "execution_count": 11,
     "metadata": {
      "tags": []
     },
     "output_type": "execute_result"
    }
   ],
   "source": [
    "Forcasteddf.to_csv"
   ]
  },
  {
   "cell_type": "code",
   "execution_count": 0,
   "metadata": {
    "colab": {},
    "colab_type": "code",
    "id": "qzJrWu4qGjst"
   },
   "outputs": [],
   "source": []
  }
 ],
 "metadata": {
  "colab": {
   "name": "FacebookProphetCrime2(loc).ipynb",
   "provenance": []
  },
  "kernelspec": {
   "display_name": "Python 3",
   "language": "python",
   "name": "python3"
  },
  "language_info": {
   "codemirror_mode": {
    "name": "ipython",
    "version": 3
   },
   "file_extension": ".py",
   "mimetype": "text/x-python",
   "name": "python",
   "nbconvert_exporter": "python",
   "pygments_lexer": "ipython3",
   "version": "3.7.6"
  }
 },
 "nbformat": 4,
 "nbformat_minor": 1
}
